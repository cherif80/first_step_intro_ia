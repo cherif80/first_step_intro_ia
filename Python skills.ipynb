{
 "cells": [
  {
   "cell_type": "code",
   "execution_count": 58,
   "metadata": {},
   "outputs": [
    {
     "name": "stdout",
     "output_type": "stream",
     "text": [
      "2002 2009 2016 2023 2037 2044 2051 2058 2072 2079 2086 2093 2107 2114 2121 2128 2142 2149 2156 2163 2177 2184 2191 2198 2212 2219 2226 2233 2247 2254 2261 2268 2282 2289 2296 2303 2317 2324 2331 2338 2352 2359 2366 2373 2387 2394 2401 2408 2422 2429 2436 2443 2457 2464 2471 2478 2492 2499 2506 2513 2527 2534 2541 2548 2562 2569 2576 2583 2597 2604 2611 2618 2632 2639 2646 2653 2667 2674 2681 2688 2702 2709 2716 2723 2737 2744 2751 2758 2772 2779 2786 2793 2807 2814 2821 2828 2842 2849 2856 2863 2877 2884 2891 2898 2912 2919 2926 2933 2947 2954 2961 2968 2982 2989 2996 3003 3017 3024 3031 3038 3052 3059 3066 3073 3087 3094 3101 3108 3122 3129 3136 3143 3157 3164 3171 3178 3192 3199 "
     ]
    }
   ],
   "source": [
    "# Question 1\n",
    "\n",
    "for i in range(2000, (3200 + 1)):\n",
    "    if (i % 7 == 0) and (i % 5 != 0):\n",
    "        print(i, end=\" \")"
   ]
  },
  {
   "cell_type": "code",
   "execution_count": 3,
   "metadata": {},
   "outputs": [
    {
     "name": "stdout",
     "output_type": "stream",
     "text": [
      "Veillez entrer des nombres naturels séparés par un espace:\n",
      "23 3 6\n",
      "25852016738884976640000 6 720 \n"
     ]
    }
   ],
   "source": [
    "# Question 2\n",
    "\n",
    "def factorial(num):\n",
    "    fact = 1\n",
    "    for i in range(num, 0, -1):\n",
    "        fact *= i\n",
    "    return fact\n",
    "\n",
    "print(\"Veillez entrer des nombres naturels séparés par un espace:\")\n",
    "not_finish = True\n",
    "while not_finish:\n",
    "    numbers = input()\n",
    "    output = \"\"\n",
    "    numbers = numbers.strip().split(' ')\n",
    "    try:\n",
    "        for number in numbers:\n",
    "            number = int(number)\n",
    "            output += str(factorial(number)) + \" \"\n",
    "        not_finish = False\n",
    "        print(output)\n",
    "    except ValueError:\n",
    "        print(\"Veillez entrer des nombres naturels corrects séparés par un espace:\")"
   ]
  },
  {
   "cell_type": "code",
   "execution_count": 4,
   "metadata": {},
   "outputs": [
    {
     "name": "stdout",
     "output_type": "stream",
     "text": [
      "Veillez entrer un nombre naturel:\n",
      "10\n",
      "{1: 1, 2: 4, 3: 9, 4: 16, 5: 25, 6: 36, 7: 49, 8: 64, 9: 81, 10: 100}\n"
     ]
    }
   ],
   "source": [
    "# Question 3\n",
    "\n",
    "print(\"Veillez entrer un nombre naturel:\")\n",
    "\n",
    "output = dict()\n",
    "not_finish = True\n",
    "while not_finish:\n",
    "    number = input()\n",
    "    try:\n",
    "        number = int(number)\n",
    "        for i in range(1,  number+1):\n",
    "            output[i] = i*i\n",
    "        not_finish = False\n",
    "        print(output)\n",
    "    except ValueError:\n",
    "            print(\"Veillez entrer un nombre naturel correct:\")"
   ]
  },
  {
   "cell_type": "code",
   "execution_count": 6,
   "metadata": {},
   "outputs": [
    {
     "name": "stdout",
     "output_type": "stream",
     "text": [
      "Veillez entrer une chaine de caractère :\n",
      "cherif logbi toujours\n",
      "Veillez entrer un nombre naturel entre 0 et 20:\n",
      "15\n",
      "cherif logbi tojours\n"
     ]
    }
   ],
   "source": [
    "# Question 4\n",
    "\n",
    "print(\"Veillez entrer une chaine de caractère :\")\n",
    "string = input()\n",
    "print(f\"Veillez entrer un nombre naturel entre 0 et {len(string) - 1}:\")\n",
    "\n",
    "not_finish = True\n",
    "while not_finish:\n",
    "    n = input()\n",
    "    try:\n",
    "        n = int(n)\n",
    "        if n < len(string):\n",
    "            not_finish = False\n",
    "            print(string[:n] + string[n + 1:])\n",
    "        else:\n",
    "            print(f\"Veillez entrer un nombre naturel entre 0 et {len(string) - 1}:\")\n",
    "    except ValueError:\n",
    "        print(f\"Veillez entrer un nombre naturel correct entre 0 et {len(string) - 1}:\")\n"
   ]
  },
  {
   "cell_type": "code",
   "execution_count": 24,
   "metadata": {},
   "outputs": [
    {
     "name": "stdout",
     "output_type": "stream",
     "text": [
      "Original array elements: [[0 1] [2 3] [4 5]]\n",
      "Array to list: [[0, 1], [2, 3], [4, 5]]\n"
     ]
    }
   ],
   "source": [
    "# Question 5\n",
    "\n",
    "import numpy as np\n",
    "\n",
    "np_array = np.array([[0, 1], [2, 3], [4, 5]] )\n",
    "list_array = np_array.tolist()\n",
    "string = str(list_array).replace(',', '')\n",
    "print (\"Original array elements: \"+ string)\n",
    "print (\"Array to list: \", end=\"\")\n",
    "print (list_array)"
   ]
  },
  {
   "cell_type": "code",
   "execution_count": 29,
   "metadata": {},
   "outputs": [
    {
     "data": {
      "text/plain": [
       "array([[ 1., -1.],\n",
       "       [-1.,  1.]])"
      ]
     },
     "execution_count": 29,
     "metadata": {},
     "output_type": "execute_result"
    }
   ],
   "source": [
    "# Question 6\n",
    "\n",
    "import numpy as np\n",
    "\n",
    "mat1 = np.array([0, 1, 2])\n",
    "mat2 = np.array([2, 1, 0])\n",
    "\n",
    "np.cov(mat1,mat2)"
   ]
  },
  {
   "cell_type": "code",
   "execution_count": 56,
   "metadata": {},
   "outputs": [
    {
     "name": "stdout",
     "output_type": "stream",
     "text": [
      "Veillez entrer une liste de valeurs naturels:100,150,180 \n",
      "18,22,24\n"
     ]
    }
   ],
   "source": [
    "# Question 7\n",
    "\n",
    "import numpy as np\n",
    "\n",
    "C, H = 50, 30\n",
    "\n",
    "D = input(\"Veillez entrer une liste de valeurs naturels:\")\n",
    "D = D.strip().split(',')\n",
    "for i, elm in enumerate(D):\n",
    "    Q = int(np.sqrt((2*C*int(elm.strip()))/H))\n",
    "    print(Q, end=\",\") if i != len(D)-1 else print(Q)\n"
   ]
  }
 ],
 "metadata": {
  "kernelspec": {
   "display_name": "Python 3",
   "language": "python",
   "name": "python3"
  },
  "language_info": {
   "codemirror_mode": {
    "name": "ipython",
    "version": 3
   },
   "file_extension": ".py",
   "mimetype": "text/x-python",
   "name": "python",
   "nbconvert_exporter": "python",
   "pygments_lexer": "ipython3",
   "version": "3.6.3"
  }
 },
 "nbformat": 4,
 "nbformat_minor": 2
}
